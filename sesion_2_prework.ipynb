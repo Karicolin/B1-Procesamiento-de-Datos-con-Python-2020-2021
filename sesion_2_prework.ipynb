{
  "nbformat": 4,
  "nbformat_minor": 0,
  "metadata": {
    "colab": {
      "provenance": [],
      "authorship_tag": "ABX9TyMJmcZWTo4qtxUSnj9EBPfw",
      "include_colab_link": true
    },
    "kernelspec": {
      "name": "python3",
      "display_name": "Python 3"
    },
    "language_info": {
      "name": "python"
    }
  },
  "cells": [
    {
      "cell_type": "markdown",
      "metadata": {
        "id": "view-in-github",
        "colab_type": "text"
      },
      "source": [
        "<a href=\"https://colab.research.google.com/github/Karicolin/B1-Procesamiento-de-Datos-con-Python-2020-2021/blob/master/sesion_2_prework.ipynb\" target=\"_parent\"><img src=\"https://colab.research.google.com/assets/colab-badge.svg\" alt=\"Open In Colab\"/></a>"
      ]
    },
    {
      "cell_type": "code",
      "execution_count": null,
      "metadata": {
        "colab": {
          "base_uri": "https://localhost:8080/"
        },
        "id": "GEjJptAlVQLz",
        "outputId": "960026c5-f796-483b-eb5f-4c5a994a5968"
      },
      "outputs": [
        {
          "output_type": "execute_result",
          "data": {
            "text/plain": [
              "4"
            ]
          },
          "metadata": {},
          "execution_count": 1
        }
      ],
      "source": [
        "lista_1 = [4,8,3,6,2]\n",
        "lista_1[0]\n"
      ]
    },
    {
      "cell_type": "code",
      "source": [
        "print(lista_1[3])\n",
        "print (lista_1[2])"
      ],
      "metadata": {
        "colab": {
          "base_uri": "https://localhost:8080/"
        },
        "id": "xkSibRAYVieg",
        "outputId": "b8471b07-50a1-4d00-f873-bb183bbba350"
      },
      "execution_count": null,
      "outputs": [
        {
          "output_type": "stream",
          "name": "stdout",
          "text": [
            "6\n",
            "3\n"
          ]
        }
      ]
    },
    {
      "cell_type": "code",
      "source": [
        "lista_2 = [4, 7, 6, 2, 5]\n",
        "lista_2.append (10)\n",
        "lista_2\n"
      ],
      "metadata": {
        "colab": {
          "base_uri": "https://localhost:8080/"
        },
        "id": "PHhIPH3NVxlS",
        "outputId": "0e483a25-8479-4540-ecf3-8a2d926591ba"
      },
      "execution_count": null,
      "outputs": [
        {
          "output_type": "execute_result",
          "data": {
            "text/plain": [
              "[4, 7, 6, 2, 5, 10]"
            ]
          },
          "metadata": {},
          "execution_count": 5
        }
      ]
    },
    {
      "cell_type": "code",
      "source": [
        "lista_2[5]"
      ],
      "metadata": {
        "colab": {
          "base_uri": "https://localhost:8080/"
        },
        "id": "Y8gMM7LzWRPz",
        "outputId": "f3b3e6da-332b-4117-a7b4-804c312216c1"
      },
      "execution_count": null,
      "outputs": [
        {
          "output_type": "execute_result",
          "data": {
            "text/plain": [
              "10"
            ]
          },
          "metadata": {},
          "execution_count": 6
        }
      ]
    },
    {
      "cell_type": "markdown",
      "source": [
        "Este comando ejecuta pops\n"
      ],
      "metadata": {
        "id": "y3Wo0IpKWYBN"
      }
    },
    {
      "cell_type": "code",
      "source": [
        "estrellas = ['woopsie doopsies','omega-3','Justin Bieber','La twinle','Rosaberta']\n",
        "estrellas.pop\n",
        "estrellas\n",
        "estrellas.pop ()\n",
        "estrellas"
      ],
      "metadata": {
        "colab": {
          "base_uri": "https://localhost:8080/"
        },
        "id": "rZaHOFSPWavZ",
        "outputId": "06fee749-bb90-4a7c-dd54-ade2de4a9271"
      },
      "execution_count": null,
      "outputs": [
        {
          "output_type": "execute_result",
          "data": {
            "text/plain": [
              "['woopsie doopsies', 'omega-3', 'Justin Bieber', 'La twinle']"
            ]
          },
          "metadata": {},
          "execution_count": 9
        }
      ]
    },
    {
      "cell_type": "markdown",
      "source": [
        "Se puede pasar el numde indice para que nos de el elemento"
      ],
      "metadata": {
        "id": "-Ob2cwsJXKlE"
      }
    },
    {
      "cell_type": "code",
      "source": [
        "estrellas.pop(2)\n",
        "estrellas\n"
      ],
      "metadata": {
        "colab": {
          "base_uri": "https://localhost:8080/"
        },
        "id": "y7Ox-9LUXQhE",
        "outputId": "9af26a13-d17d-432f-ba14-0b6e6e90050e"
      },
      "execution_count": null,
      "outputs": [
        {
          "output_type": "execute_result",
          "data": {
            "text/plain": [
              "['woopsie doopsies', 'omega-3', 'La twinle']"
            ]
          },
          "metadata": {},
          "execution_count": 10
        }
      ]
    },
    {
      "cell_type": "markdown",
      "source": [
        "EL SIGUIENTE COMANDO EJECUTA DICCIONARIOS\n"
      ],
      "metadata": {
        "id": "Ctu5svK5ZPgM"
      }
    },
    {
      "cell_type": "code",
      "source": [
        "diccionario = {\n",
        "    \"llave_1\": 1,\n",
        "    \"llave_2\": 2,\n",
        "    \"llave_3\": 3\n",
        "}\n",
        "diccionario_numérico = {\n",
        "    1: \"uno\",\n",
        "    2: \"dos\",\n",
        "    3: \"tres\",\n",
        "    4: \"cuatro\",\n",
        "    5: \"cinco\"\n",
        "}\n",
        "\n",
        "nombre_a_profesion = {\n",
        "    \"Jose Bebe\" : \"Mi Novio\",\n",
        "    \"Kari\" : \"Bichologa\",\n",
        "    \"Bananito\" : \"El chambas limpias\",\n",
        "    \"Taylor Swift\" : \"La industria musical\"\n",
        "}\n",
        "nombre_a_profesion [\"Kari\"]\n"
      ],
      "metadata": {
        "colab": {
          "base_uri": "https://localhost:8080/",
          "height": 35
        },
        "id": "EA5NmMEBZVmw",
        "outputId": "0f2e392a-9c6f-4c59-fafc-00a8cd2c84ae"
      },
      "execution_count": null,
      "outputs": [
        {
          "output_type": "execute_result",
          "data": {
            "text/plain": [
              "'Bichologa'"
            ],
            "application/vnd.google.colaboratory.intrinsic+json": {
              "type": "string"
            }
          },
          "metadata": {},
          "execution_count": 12
        }
      ]
    },
    {
      "cell_type": "markdown",
      "source": [
        "Para agregar datos, se realizan asignaciones"
      ],
      "metadata": {
        "id": "NfPUuRdUc5zX"
      }
    },
    {
      "cell_type": "code",
      "source": [
        "nombre_a_profesion [\"José Iglecias\"] = \"Licenciado en Ciencias Ambientales, Alias el Luisenciado\"\n",
        "nombre_a_profesion [\"José Iglecias\"]"
      ],
      "metadata": {
        "colab": {
          "base_uri": "https://localhost:8080/",
          "height": 35
        },
        "id": "3R-Gl7eXc98o",
        "outputId": "c01b0240-b5a2-423a-df75-fe382a91cb76"
      },
      "execution_count": null,
      "outputs": [
        {
          "output_type": "execute_result",
          "data": {
            "text/plain": [
              "'Licenciado en Ciencias Ambientales, Alias el Luisenciado'"
            ],
            "application/vnd.google.colaboratory.intrinsic+json": {
              "type": "string"
            }
          },
          "metadata": {},
          "execution_count": 13
        }
      ]
    },
    {
      "cell_type": "markdown",
      "source": [
        "Se pueden modificar los datos del diccionario"
      ],
      "metadata": {
        "id": "pYzFm08Wd_kw"
      }
    },
    {
      "cell_type": "code",
      "source": [
        "nombre_a_profesion[\"José Iglecias\"] = \"Stripper\"\n",
        "nombre_a_profesion [\"José Iglecias\"]"
      ],
      "metadata": {
        "colab": {
          "base_uri": "https://localhost:8080/",
          "height": 35
        },
        "id": "V1mw8Mp9eLyY",
        "outputId": "d8828a1c-3343-4b59-f59c-727a5a1d6e8f"
      },
      "execution_count": null,
      "outputs": [
        {
          "output_type": "execute_result",
          "data": {
            "text/plain": [
              "'Stripper'"
            ],
            "application/vnd.google.colaboratory.intrinsic+json": {
              "type": "string"
            }
          },
          "metadata": {},
          "execution_count": 14
        }
      ]
    },
    {
      "cell_type": "markdown",
      "source": [
        "Los valores de los diccionarios pueden ser listas u otros diccionarios"
      ],
      "metadata": {
        "id": "D8B7jlgKexcd"
      }
    },
    {
      "cell_type": "code",
      "source": [
        "datos_compras = {\n",
        "    \"nombre\": \"Kari\",\n",
        "    \"productos_comprados\": [\"TV\", \"LIBRO\", \"PAPA\"],\n",
        "    \"direccion_de_facturacion\": {\n",
        "        \"colonia\": \"Poteje\",\n",
        "        \"calle\": \"SN\",\n",
        "        \"cp\" : \"50946\"\n",
        "        }\n",
        "    }\n",
        "    datos_compras[\"productos_comprados\"].append(\"USB\")\n",
        "    datos_compras[\"direccion_de_facturacion\"] [\"numero\"] = 20\n",
        "    print (datos_compras)"
      ],
      "metadata": {
        "colab": {
          "base_uri": "https://localhost:8080/",
          "height": 140
        },
        "id": "c-DFcmiMgZMG",
        "outputId": "196155d9-c5e6-4cea-f48a-92565e892aae"
      },
      "execution_count": null,
      "outputs": [
        {
          "output_type": "error",
          "ename": "IndentationError",
          "evalue": "ignored",
          "traceback": [
            "\u001b[0;36m  File \u001b[0;32m\"<ipython-input-21-dc23f8f25d7e>\"\u001b[0;36m, line \u001b[0;32m10\u001b[0m\n\u001b[0;31m    datos_compras[\"productos_comprados\"].append(\"USB\")\u001b[0m\n\u001b[0m    ^\u001b[0m\n\u001b[0;31mIndentationError\u001b[0m\u001b[0;31m:\u001b[0m unexpected indent\n"
          ]
        }
      ]
    },
    {
      "cell_type": "code",
      "source": [
        "datos_compras[\"productos_comprados\"].append(\"USB\")\n",
        "    datos_compras[\"direccion_de_facturacion\"] [\"numero\"] = 20\n",
        "    print (datos_compras)"
      ],
      "metadata": {
        "colab": {
          "base_uri": "https://localhost:8080/",
          "height": 140
        },
        "id": "3D6w9mbBhYGD",
        "outputId": "2dd3e2e3-136e-42a6-ca50-4ba2e17f59bb"
      },
      "execution_count": null,
      "outputs": [
        {
          "output_type": "error",
          "ename": "IndentationError",
          "evalue": "ignored",
          "traceback": [
            "\u001b[0;36m  File \u001b[0;32m\"<ipython-input-22-6792d5c95355>\"\u001b[0;36m, line \u001b[0;32m2\u001b[0m\n\u001b[0;31m    datos_compras[\"direccion_de_facturacion\"] [\"numero\"] = 20\u001b[0m\n\u001b[0m    ^\u001b[0m\n\u001b[0;31mIndentationError\u001b[0m\u001b[0;31m:\u001b[0m unexpected indent\n"
          ]
        }
      ]
    },
    {
      "cell_type": "markdown",
      "source": [
        "ELIMANCION DE DATOS CON POP\n"
      ],
      "metadata": {
        "id": "TW6zwmD8h8CO"
      }
    },
    {
      "cell_type": "code",
      "source": [
        "nombre_a_profesion = {\n",
        "    \"Jose Bebe\" : \"Mi Novio\",\n",
        "    \"Kari\" : \"Bichologa\",\n",
        "    \"Bananito\" : \"El chambas limpias\",\n",
        "    \"Taylor Swift\" : \"La industria musical\"\n",
        "}\n",
        "nombre_a_profesion.pop (\"Kari\")\n",
        "nombre_a_profesion\n"
      ],
      "metadata": {
        "colab": {
          "base_uri": "https://localhost:8080/"
        },
        "id": "QiTGK31Ph-kT",
        "outputId": "7080e154-5aed-406d-de4b-20b295517bef"
      },
      "execution_count": null,
      "outputs": [
        {
          "output_type": "execute_result",
          "data": {
            "text/plain": [
              "{'Jose Bebe': 'Mi Novio',\n",
              " 'Bananito': 'El chambas limpias',\n",
              " 'Taylor Swift': 'La industria musical'}"
            ]
          },
          "metadata": {},
          "execution_count": 24
        }
      ]
    },
    {
      "cell_type": "markdown",
      "source": [
        "FUNCIONES"
      ],
      "metadata": {
        "id": "2fJSWj3ojZCy"
      }
    },
    {
      "cell_type": "code",
      "source": [
        "#Cantidad de alumnos estudiando en la UNAM en el ciclo 2019-2020\n",
        "#Fuente: xxxx\n",
        "#\n",
        "total_de_alunos = 360883\n",
        "alumnos_en_posgrado = 30634\n",
        "alumnos_en_licenciatura = 217808\n",
        "alumnos_en_bachillerato = 111569\n",
        "alumnos_en_prope_de_musica = 872\n",
        "\n",
        "def sumar_dos_a_numero (numero):\n",
        "  suma = numero + 2\n",
        "  return suma\n",
        "\n"
      ],
      "metadata": {
        "colab": {
          "base_uri": "https://localhost:8080/",
          "height": 140
        },
        "id": "0QxOQD3mja3X",
        "outputId": "bdecec5b-5078-44fa-89d0-1db4f44e2855"
      },
      "execution_count": null,
      "outputs": [
        {
          "output_type": "error",
          "ename": "IndentationError",
          "evalue": "ignored",
          "traceback": [
            "\u001b[0;36m  File \u001b[0;32m\"<tokenize>\"\u001b[0;36m, line \u001b[0;32m15\u001b[0m\n\u001b[0;31m    print (suma_de_5_mas_2)\u001b[0m\n\u001b[0m    ^\u001b[0m\n\u001b[0;31mIndentationError\u001b[0m\u001b[0;31m:\u001b[0m unindent does not match any outer indentation level\n"
          ]
        }
      ]
    },
    {
      "cell_type": "code",
      "source": [
        "suma_de_5_mas_2 = sumar_dos_a_numero (5)\n",
        "suma_de_5_mas_2"
      ],
      "metadata": {
        "colab": {
          "base_uri": "https://localhost:8080/"
        },
        "id": "McI3HUUonWrJ",
        "outputId": "16a3a22f-ec44-4e97-8483-5fefe6604982"
      },
      "execution_count": null,
      "outputs": [
        {
          "output_type": "execute_result",
          "data": {
            "text/plain": [
              "7"
            ]
          },
          "metadata": {},
          "execution_count": 41
        }
      ]
    },
    {
      "cell_type": "code",
      "source": [
        "print (sumar_dos_a_numero(3))\n",
        "print (sumar_dos_a_numero(10))\n",
        "print (sumar_dos_a_numero(222))\n",
        "print (sumar_dos_a_numero(1036))"
      ],
      "metadata": {
        "colab": {
          "base_uri": "https://localhost:8080/"
        },
        "id": "u7eJpDMmnnHz",
        "outputId": "bef9b69e-2b6f-4f42-e477-b9e67e9054a1"
      },
      "execution_count": null,
      "outputs": [
        {
          "output_type": "stream",
          "name": "stdout",
          "text": [
            "5\n",
            "12\n",
            "224\n",
            "1038\n"
          ]
        }
      ]
    },
    {
      "cell_type": "markdown",
      "source": [
        "FUNCIONES PARA CUANTIFICAR PORCENTAJES\n"
      ],
      "metadata": {
        "id": "wljgP5wooB0N"
      }
    },
    {
      "cell_type": "code",
      "source": [
        "#Cantidad de alumnos estudiando en la UNAM en el ciclo 2019-2020\n",
        "#Fuente: xxxx\n",
        "#\n",
        "\n",
        "def calcular_porcentaje (muestra, total):\n",
        "  porcentaje = muestra * 100 / total\n",
        "  return porcentaje\n"
      ],
      "metadata": {
        "id": "lRcrk_beoE9X"
      },
      "execution_count": null,
      "outputs": []
    },
    {
      "cell_type": "code",
      "source": [
        "def calcular_porcentaje (muestra, total):\n",
        "  porcentaje = muestra * 100 / total\n",
        "  return porcentaje\n",
        "total_de_alumnos = 360883\n",
        "alumnos_en_posgrado = 30634\n",
        "alumnos_en_licenciatura = 217808\n",
        "alumnos_en_bachillerato = 111569\n",
        "alumnos_en_prope_de_musica = 872\n",
        "\n",
        "alumnos_en_posgrado_porc = calcular_porcentaje (alumnos_en_posgrado, total_de_alumnos)\n",
        "alumnos_en_licenciatura_porc =  calcular_porcentaje (alumnos_en_licenciatura, total_de_alumnos)\n",
        "alumnos_en_bachillerato_porc = calcular_porcentaje (alumnos_en_bachillerato, total_de_alumnos)\n",
        "alumnos_en_prope_de_musica_porc = calcular_porcentaje (alumnos_en_prope_de_musica, total_de_alumnos)"
      ],
      "metadata": {
        "id": "-P6Y9UEIozyz"
      },
      "execution_count": null,
      "outputs": []
    },
    {
      "cell_type": "markdown",
      "source": [
        "CONTEXTO DE LAS VARIABLES"
      ],
      "metadata": {
        "id": "pOodqSBtrIxX"
      }
    },
    {
      "cell_type": "code",
      "source": [
        "variable_global = \"Global\"\n",
        "variable_global"
      ],
      "metadata": {
        "colab": {
          "base_uri": "https://localhost:8080/",
          "height": 35
        },
        "id": "m1BOlAJsrLV5",
        "outputId": "15fbbb38-abc1-4e2b-d75a-26e4b6c49f37"
      },
      "execution_count": null,
      "outputs": [
        {
          "output_type": "execute_result",
          "data": {
            "text/plain": [
              "'Global'"
            ],
            "application/vnd.google.colaboratory.intrinsic+json": {
              "type": "string"
            }
          },
          "metadata": {},
          "execution_count": 52
        }
      ]
    },
    {
      "cell_type": "markdown",
      "source": [
        "VEAMOS QUE PASA CON VARIABLE DECLARADA DENTRO DE SENTENCIA IF"
      ],
      "metadata": {
        "id": "wccUeHnGrwpI"
      }
    },
    {
      "cell_type": "code",
      "source": [
        "status = \"OK\"\n",
        "if status == \"OK\":\n",
        "  respuesta = \"El proceso fue llevado a cabo con éxito\"\n",
        "respuesta\n"
      ],
      "metadata": {
        "colab": {
          "base_uri": "https://localhost:8080/",
          "height": 35
        },
        "id": "aV7HLVdrsaz5",
        "outputId": "f281d033-a7f2-4782-d9ba-03b377a8518a"
      },
      "execution_count": null,
      "outputs": [
        {
          "output_type": "execute_result",
          "data": {
            "text/plain": [
              "'El proceso fue llevado a cabo con éxito'"
            ],
            "application/vnd.google.colaboratory.intrinsic+json": {
              "type": "string"
            }
          },
          "metadata": {},
          "execution_count": 55
        }
      ]
    }
  ]
}