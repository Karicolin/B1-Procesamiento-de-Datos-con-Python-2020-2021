{
  "nbformat": 4,
  "nbformat_minor": 0,
  "metadata": {
    "colab": {
      "provenance": [],
      "authorship_tag": "ABX9TyPxwWL9fSYQEYCH775eEX6O",
      "include_colab_link": true
    },
    "kernelspec": {
      "name": "python3",
      "display_name": "Python 3"
    },
    "language_info": {
      "name": "python"
    }
  },
  "cells": [
    {
      "cell_type": "markdown",
      "metadata": {
        "id": "view-in-github",
        "colab_type": "text"
      },
      "source": [
        "<a href=\"https://colab.research.google.com/github/Karicolin/B1-Procesamiento-de-Datos-con-Python-2020-2021/blob/master/parte_2_session_3.ipynb\" target=\"_parent\"><img src=\"https://colab.research.google.com/assets/colab-badge.svg\" alt=\"Open In Colab\"/></a>"
      ]
    },
    {
      "cell_type": "code",
      "execution_count": null,
      "metadata": {
        "id": "v9eM2D10SzVo"
      },
      "outputs": [],
      "source": [
        "#1s True, 0s False"
      ]
    },
    {
      "cell_type": "code",
      "source": [
        "print(f'{(\"\"):8}|{(\"True\"):8}|{(\"False\"):8}')\n",
        "print(f'{(\"True\"):8}|{(True and True):8}|{(True and False):8}')\n",
        "print(f'{(\"False\"):8}|{(False and True):8}|{(False and False):8}')"
      ],
      "metadata": {
        "colab": {
          "base_uri": "https://localhost:8080/"
        },
        "id": "hrCXRlDyS9Kr",
        "outputId": "c2989021-e961-4817-a660-65d412244aef"
      },
      "execution_count": 1,
      "outputs": [
        {
          "output_type": "stream",
          "name": "stdout",
          "text": [
            "        |True    |False   \n",
            "True    |       1|       0\n",
            "False   |       0|       0\n"
          ]
        }
      ]
    },
    {
      "cell_type": "markdown",
      "source": [
        "veamos que pasa si se usa treu con comparaciones"
      ],
      "metadata": {
        "id": "Et_II-oqUt49"
      }
    },
    {
      "cell_type": "code",
      "source": [
        "(5>2) and (10 == 10)"
      ],
      "metadata": {
        "colab": {
          "base_uri": "https://localhost:8080/"
        },
        "id": "idp5J2cPUwfr",
        "outputId": "4ff16f9e-103e-4176-d8e6-75ba33c76790"
      },
      "execution_count": 2,
      "outputs": [
        {
          "output_type": "execute_result",
          "data": {
            "text/plain": [
              "True"
            ]
          },
          "metadata": {},
          "execution_count": 2
        }
      ]
    },
    {
      "cell_type": "code",
      "source": [
        "(5>2) and (10<8)"
      ],
      "metadata": {
        "colab": {
          "base_uri": "https://localhost:8080/"
        },
        "id": "znO_pT1NVAH0",
        "outputId": "bcc5e807-7a91-4a0b-d6d1-e223d7877486"
      },
      "execution_count": 3,
      "outputs": [
        {
          "output_type": "execute_result",
          "data": {
            "text/plain": [
              "False"
            ]
          },
          "metadata": {},
          "execution_count": 3
        }
      ]
    },
    {
      "cell_type": "code",
      "source": [
        "(5 != 5) and (10 > 2)"
      ],
      "metadata": {
        "colab": {
          "base_uri": "https://localhost:8080/"
        },
        "id": "RhUql6VdVIje",
        "outputId": "b21f8698-070a-4ded-d107-946fb57ace52"
      },
      "execution_count": 4,
      "outputs": [
        {
          "output_type": "execute_result",
          "data": {
            "text/plain": [
              "False"
            ]
          },
          "metadata": {},
          "execution_count": 4
        }
      ]
    },
    {
      "cell_type": "code",
      "source": [
        "(5 != 5) and (10 == 3)"
      ],
      "metadata": {
        "colab": {
          "base_uri": "https://localhost:8080/"
        },
        "id": "aI8jJFiiVSXn",
        "outputId": "fce660d2-14be-469f-a81a-64af3b48dda1"
      },
      "execution_count": 5,
      "outputs": [
        {
          "output_type": "execute_result",
          "data": {
            "text/plain": [
              "False"
            ]
          },
          "metadata": {},
          "execution_count": 5
        }
      ]
    },
    {
      "cell_type": "markdown",
      "source": [
        "usando el operador con la función filter\n"
      ],
      "metadata": {
        "id": "3yjx8N2rVdTS"
      }
    },
    {
      "cell_type": "code",
      "source": [
        "numeros =  [3,6,78,54,36,55,32,13,37,89,87,88,90,63,74,6,97,6,3,225,46,79]\n",
        "#filtar todos los num non y <= 50\n",
        "def numero_es_par(numero):\n",
        "  if numero % 2 == 0:\n",
        "    return True\n",
        "  else:\n",
        "    return False"
      ],
      "metadata": {
        "id": "aMxFk_-sVhao"
      },
      "execution_count": 13,
      "outputs": []
    },
    {
      "cell_type": "code",
      "source": [
        "def numero_es_mayor_a_50(numero):\n",
        "  if numero > 50:\n",
        "    return True\n",
        "  else:\n",
        "    return False"
      ],
      "metadata": {
        "id": "HWGpUa4BWdxn"
      },
      "execution_count": 11,
      "outputs": []
    },
    {
      "cell_type": "markdown",
      "source": [
        "como filter solo recibe una funcion, se debe hacer una nueva func que utilice lad dos func anteriores para regresar true solo si un numes a la vez par y mayor a 50"
      ],
      "metadata": {
        "id": "Dd5MSPFjWvPN"
      }
    },
    {
      "cell_type": "code",
      "source": [
        "def numero_es_par_y_numero_es_mayor_a_50(numero):\n",
        "  if numero_es_par(numero) and numero_es_mayor_a_50(numero):\n",
        "    return True\n",
        "  else:\n",
        "    return False"
      ],
      "metadata": {
        "id": "LrldnC5WW7Tc"
      },
      "execution_count": 12,
      "outputs": []
    },
    {
      "cell_type": "code",
      "source": [
        "list(filter(numero_es_par_y_numero_es_mayor_a_50, numeros))"
      ],
      "metadata": {
        "colab": {
          "base_uri": "https://localhost:8080/"
        },
        "id": "PWG3kzPkXesD",
        "outputId": "f328bc66-cfc6-4ad7-b77e-5e5b9ec9d13b"
      },
      "execution_count": 14,
      "outputs": [
        {
          "output_type": "execute_result",
          "data": {
            "text/plain": [
              "[78, 54, 88, 90, 74]"
            ]
          },
          "metadata": {},
          "execution_count": 14
        }
      ]
    },
    {
      "cell_type": "markdown",
      "source": [
        "USOS DE OR\n",
        "1 True 0 False\n"
      ],
      "metadata": {
        "id": "AVGB_jujYXLi"
      }
    },
    {
      "cell_type": "code",
      "source": [
        "print(f'{(\"\"):8}|{(\"True\"):8}|{(\"False\"):8}')\n",
        "print(f'{(\"True\"):8}|{(True or True):8}|{(True or False):8}')\n",
        "print(f'{(\"False\"):8}|{(False or True):8}|{(False or False):8}')"
      ],
      "metadata": {
        "colab": {
          "base_uri": "https://localhost:8080/"
        },
        "id": "5xK_hpS_YYZV",
        "outputId": "a9fa95f4-7ebf-4256-f22b-64f35a90f556"
      },
      "execution_count": 15,
      "outputs": [
        {
          "output_type": "stream",
          "name": "stdout",
          "text": [
            "        |True    |False   \n",
            "True    |       1|       1\n",
            "False   |       1|       0\n"
          ]
        }
      ]
    },
    {
      "cell_type": "code",
      "source": [
        "(4<19) or (12>34)"
      ],
      "metadata": {
        "colab": {
          "base_uri": "https://localhost:8080/"
        },
        "id": "yVgCT78VYrst",
        "outputId": "74c3a457-7f9c-4e0e-ff79-a66f999bfbd0"
      },
      "execution_count": 16,
      "outputs": [
        {
          "output_type": "execute_result",
          "data": {
            "text/plain": [
              "True"
            ]
          },
          "metadata": {},
          "execution_count": 16
        }
      ]
    },
    {
      "cell_type": "code",
      "source": [
        "(3>34) or (10 == 22)"
      ],
      "metadata": {
        "colab": {
          "base_uri": "https://localhost:8080/"
        },
        "id": "4Bp4NoB9YwpH",
        "outputId": "cef53101-3dca-4f74-dfce-22cff3049a3e"
      },
      "execution_count": 17,
      "outputs": [
        {
          "output_type": "execute_result",
          "data": {
            "text/plain": [
              "False"
            ]
          },
          "metadata": {},
          "execution_count": 17
        }
      ]
    },
    {
      "cell_type": "code",
      "source": [
        "#usando funcion filter\n",
        "numeros =  [3,6,78,54,36,55,32,13,37,89,87,88,90,63,74,6,97,6,3,225,46,79]\n",
        "def numero_es_par_y_numero_es_mayor_a_50(numero):\n",
        "  if numero_es_par(numero) and numero_es_mayor_a_50(numero):\n",
        "    return True\n",
        "  else:\n",
        "    return False\n",
        "list(filter(numero_es_par_y_numero_es_mayor_a_50, numeros))\n"
      ],
      "metadata": {
        "colab": {
          "base_uri": "https://localhost:8080/"
        },
        "id": "a8L76Dl8Y5p9",
        "outputId": "b7f44595-9c9c-423f-c688-a183c3bc9640"
      },
      "execution_count": 19,
      "outputs": [
        {
          "output_type": "execute_result",
          "data": {
            "text/plain": [
              "[78, 54, 88, 90, 74]"
            ]
          },
          "metadata": {},
          "execution_count": 19
        }
      ]
    },
    {
      "cell_type": "markdown",
      "source": [
        "USOS DE NOT, REGRESAR EL BOOLEANO AL PUESTO QUE RECIBIÓ"
      ],
      "metadata": {
        "id": "hZaxkY96Z2HS"
      }
    },
    {
      "cell_type": "code",
      "source": [
        "print (f'{(\"True\"):8}|{(not True):8}')\n",
        "print (f'{(\"False\"):8}|{(not False):8}')"
      ],
      "metadata": {
        "colab": {
          "base_uri": "https://localhost:8080/"
        },
        "id": "Pg_AXncQZ7Tb",
        "outputId": "4962912f-26a9-4e44-99ac-6d0585b2f4c2"
      },
      "execution_count": 20,
      "outputs": [
        {
          "output_type": "stream",
          "name": "stdout",
          "text": [
            "True    |       0\n",
            "False   |       1\n"
          ]
        }
      ]
    },
    {
      "cell_type": "code",
      "source": [
        "def numero_es_par(numero):\n",
        "  if numero % 2 == 0:\n",
        "    return True\n",
        "  else:\n",
        "    return False"
      ],
      "metadata": {
        "id": "no3H2ihkawPk"
      },
      "execution_count": 23,
      "outputs": []
    },
    {
      "cell_type": "code",
      "source": [
        "list(filter(numero_es_par, numeros))"
      ],
      "metadata": {
        "colab": {
          "base_uri": "https://localhost:8080/"
        },
        "id": "EdoGw_8dbHM9",
        "outputId": "c6eed762-67ca-444d-d26b-d58551a70f78"
      },
      "execution_count": 24,
      "outputs": [
        {
          "output_type": "execute_result",
          "data": {
            "text/plain": [
              "[6, 78, 54, 36, 32, 88, 90, 74, 6, 6, 46]"
            ]
          },
          "metadata": {},
          "execution_count": 24
        }
      ]
    },
    {
      "cell_type": "markdown",
      "source": [
        "obteniendo una lista solo con num nones. Se puede escribir otra funcion que regrese true cuando el num sea non. Pero se puede usar la funcion que se tiene y revertir el valor que se regresa\n"
      ],
      "metadata": {
        "id": "Kv3o2W0ubYOx"
      }
    },
    {
      "cell_type": "markdown",
      "source": [
        "list(filter(lambda x: not numero_es_par(x), numeros))"
      ],
      "metadata": {
        "id": "yHvOAKjnbo2t"
      }
    },
    {
      "cell_type": "code",
      "source": [
        "#USO DE SINTAXIS LAMBDA\n",
        "lambda x: x * 100"
      ],
      "metadata": {
        "colab": {
          "base_uri": "https://localhost:8080/"
        },
        "id": "19MdMyTqcROV",
        "outputId": "c91abe14-31d4-4fcb-8af7-bc2ea06962ca"
      },
      "execution_count": 27,
      "outputs": [
        {
          "output_type": "execute_result",
          "data": {
            "text/plain": [
              "<function __main__.<lambda>(x)>"
            ]
          },
          "metadata": {},
          "execution_count": 27
        }
      ]
    },
    {
      "cell_type": "code",
      "source": [
        "numeros = [1,2,3,4,5,6,7,8]\n",
        "list(map(lambda x: x * 100, numeros))"
      ],
      "metadata": {
        "colab": {
          "base_uri": "https://localhost:8080/"
        },
        "id": "OE0kz1OKcy9o",
        "outputId": "9afa25d2-5ca9-44bc-92ce-f2fa0ff14583"
      },
      "execution_count": 29,
      "outputs": [
        {
          "output_type": "execute_result",
          "data": {
            "text/plain": [
              "[100, 200, 300, 400, 500, 600, 700, 800]"
            ]
          },
          "metadata": {},
          "execution_count": 29
        }
      ]
    },
    {
      "cell_type": "markdown",
      "source": [
        "ussos de map\n"
      ],
      "metadata": {
        "id": "UuxnZfJBdQ8S"
      }
    },
    {
      "cell_type": "code",
      "source": [
        "list(map(lambda x: x * (x +1), numeros))"
      ],
      "metadata": {
        "colab": {
          "base_uri": "https://localhost:8080/"
        },
        "id": "hhMO-d1sdShI",
        "outputId": "3dc356b9-3725-44bd-fd0e-0d25aa716564"
      },
      "execution_count": 30,
      "outputs": [
        {
          "output_type": "execute_result",
          "data": {
            "text/plain": [
              "[2, 6, 12, 20, 30, 42, 56, 72]"
            ]
          },
          "metadata": {},
          "execution_count": 30
        }
      ]
    },
    {
      "cell_type": "code",
      "source": [
        "#USO DE FILTER\n",
        "list(filter(lambda x: x>5, numeros))"
      ],
      "metadata": {
        "colab": {
          "base_uri": "https://localhost:8080/"
        },
        "id": "b175LhSZdpXw",
        "outputId": "589b3bcb-a1e0-4f87-fbaf-9b19ab5c52b1"
      },
      "execution_count": 32,
      "outputs": [
        {
          "output_type": "execute_result",
          "data": {
            "text/plain": [
              "[6, 7, 8]"
            ]
          },
          "metadata": {},
          "execution_count": 32
        }
      ]
    },
    {
      "cell_type": "markdown",
      "source": [
        "aqui se filtran tofos los num iguales o menores a 5 con una sola linea\n"
      ],
      "metadata": {
        "id": "I9uRswNrd3Uj"
      }
    },
    {
      "cell_type": "code",
      "source": [
        "list(filter(lambda x: not numero_es_par(x), numeros))"
      ],
      "metadata": {
        "colab": {
          "base_uri": "https://localhost:8080/"
        },
        "id": "ZstsYEVaeAj6",
        "outputId": "fcb186ee-4329-4de7-fb57-f522222b2807"
      },
      "execution_count": 33,
      "outputs": [
        {
          "output_type": "execute_result",
          "data": {
            "text/plain": [
              "[1, 3, 5, 7]"
            ]
          },
          "metadata": {},
          "execution_count": 33
        }
      ]
    }
  ]
}